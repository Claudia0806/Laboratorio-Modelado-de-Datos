{
 "cells": [
  {
   "cell_type": "markdown",
   "metadata": {},
   "source": [
    "___\n",
    "<img style=\"float: right; margin: 0px 0px 15px 15px;\" src=\"https://www.machinecurve.com/wp-content/uploads/2020/11/feed-2.jpg\" width=\"350px\" height=\"180px\" />\n",
    "\n",
    "\n",
    "# <font color= #8A0829> Laboratorio de Modelado de Datos </font>\n",
    "#### <font color= #2E9AFE> `Martes y Viernes (Videoconferencia) de 13:00 - 15:00 hrs`</font>\n",
    "- <Strong> Claudia C. Castillejos Jáuregui  </Strong>\n",
    "- <Strong> Año </Strong>: 2021\n",
    " </font>\n",
    "___\n",
    "\n",
    "\n",
    "### <font color= #2E9AFE> Tema: Entrenamiento y Validación</font>"
   ]
  },
  {
   "cell_type": "markdown",
   "metadata": {},
   "source": [
    "**¿Qué es?**\n",
    "\n",
    "Es una técnica para evaluar el performance de un modelo de machine learning. \n",
    "\n",
    "Puede ser usado para problemas de clasificación y regresión y puede ser usado para cualquier algoritmo de aprendizaje supervisado. \n",
    "\n",
    "**¿Cómo funciona?**\n",
    "\n",
    "Entrenar un modelo supervisado es conceptualmente muy simple e implica los siguientes tres pasos:\n"
   ]
  },
  {
   "cell_type": "code",
   "execution_count": 1,
   "metadata": {},
   "outputs": [
    {
     "data": {
      "image/png": "[encoded data removed]",
      "text/plain": [
       "<IPython.core.display.Image object>"
      ]
     },
     "execution_count": 1,
     "metadata": {
      "image/png": {
       "height": 400,
       "width": 600
      }
     },
     "output_type": "execute_result"
    }
   ],
   "source": [
    "from IPython.display import Image\n",
    "Image(filename='proceso.png', width=600, height=400)"
   ]
  },
  {
   "cell_type": "markdown",
   "metadata": {},
   "source": [
    "**¿Porqué?**\n",
    "\n",
    "Nos ayuda a estimar el performance de un modelo en datos nuevos, es decir datos que no se usaron para estimar el modelo. \n",
    "\n",
    "La idea es ajustar un modelo en datos disponibles con entradas y salidas conocidas y luego hacer predicciones sobre nuevos datos futuros donde no tengamos la salida esperada o los valores objetivo. \n",
    "\n",
    "**¿Cuándo funciona?**\n",
    "\n",
    "Cuando tenemos suficientes datos disponibles. El procedimiento de train-test no funciona muy bien cuando los datos disponibles son pocos. \n",
    "\n",
    "La razón es que cuando el conjunto de datos se divide en conjuntos de entrenamiento y de prueba, no habrá suficientes datos en el conjunto de datos de entrenamiento para que el modelo aprenda un mapeo de entradas y salidas. \n",
    "Tampoco habrá datos suficientes en el conjunto de prueba (test) para evaluar el rendimiento del modelo\n",
    "\n",
    "**¿Qué hacer si se tienen datos insuficientes?**\n",
    "\n",
    "Una alternativa es el procedimiento de *K-fold cross-validation*\n",
    "\n",
    "\n",
    "**Entonces...¿cuándo uso el train-test split?**\n",
    "\n",
    "- Cuando no es tan costoso entrenar el modelo\n",
    "- Cuando tenemos bases de datos con muchos datos\n",
    "- Si se necesita estimar una medida de performance rápidamente\n",
    "\n",
    "#### <font color= #2E9AFE> Configuración</font>\n",
    "\n",
    "Parámetro principal de configuración: tamaño de entrenamiento y prueba (porcentaje).\n",
    "\n",
    "Tristemente... no hay una división óptima :( \n",
    "\n",
    "Separaciones más comunes:\n",
    "- Entrenamiento: 80%, Prueba 20%\n",
    "- Entrenamiento: 70%, Prueba 30%\n",
    "- Entrenamiento: 50%, Prueba 50%"
   ]
  },
  {
   "cell_type": "code",
   "execution_count": 2,
   "metadata": {},
   "outputs": [],
   "source": [
    "#Train test split en Python\n",
    "\n",
    "#Librerías\n",
    "from sklearn.datasets import make_blobs\n",
    "from sklearn.model_selection import train_test_split\n",
    "import pandas as pd\n",
    "import numpy as np\n",
    "\n",
    "# Crear datos\n",
    "# make_blobs ( genera datos figticios)\n",
    "X, y = make_blobs(n_samples=1000, n_features=1)"
   ]
  },
  {
   "cell_type": "code",
   "execution_count": 3,
   "metadata": {},
   "outputs": [
    {
     "data": {
      "text/html": [
       "<div>\n",
       "<style scoped>\n",
       "    .dataframe tbody tr th:only-of-type {\n",
       "        vertical-align: middle;\n",
       "    }\n",
       "\n",
       "    .dataframe tbody tr th {\n",
       "        vertical-align: top;\n",
       "    }\n",
       "\n",
       "    .dataframe thead th {\n",
       "        text-align: right;\n",
       "    }\n",
       "</style>\n",
       "<table border=\"1\" class=\"dataframe\">\n",
       "  <thead>\n",
       "    <tr style=\"text-align: right;\">\n",
       "      <th></th>\n",
       "      <th>X</th>\n",
       "      <th>y</th>\n",
       "    </tr>\n",
       "  </thead>\n",
       "  <tbody>\n",
       "    <tr>\n",
       "      <th>0</th>\n",
       "      <td>-6.771675</td>\n",
       "      <td>0.0</td>\n",
       "    </tr>\n",
       "    <tr>\n",
       "      <th>1</th>\n",
       "      <td>6.933307</td>\n",
       "      <td>1.0</td>\n",
       "    </tr>\n",
       "    <tr>\n",
       "      <th>2</th>\n",
       "      <td>-5.858054</td>\n",
       "      <td>2.0</td>\n",
       "    </tr>\n",
       "    <tr>\n",
       "      <th>3</th>\n",
       "      <td>-6.128529</td>\n",
       "      <td>0.0</td>\n",
       "    </tr>\n",
       "    <tr>\n",
       "      <th>4</th>\n",
       "      <td>-3.978770</td>\n",
       "      <td>2.0</td>\n",
       "    </tr>\n",
       "  </tbody>\n",
       "</table>\n",
       "</div>"
      ],
      "text/plain": [
       "          X    y\n",
       "0 -6.771675  0.0\n",
       "1  6.933307  1.0\n",
       "2 -5.858054  2.0\n",
       "3 -6.128529  0.0\n",
       "4 -3.978770  2.0"
      ]
     },
     "execution_count": 3,
     "metadata": {},
     "output_type": "execute_result"
    }
   ],
   "source": [
    "datos = pd.DataFrame(np.column_stack((X,y)), columns=['X','y'])\n",
    "datos.head()"
   ]
  },
  {
   "cell_type": "code",
   "execution_count": 4,
   "metadata": {},
   "outputs": [
    {
     "data": {
      "text/plain": [
       "(1000, 2)"
      ]
     },
     "execution_count": 4,
     "metadata": {},
     "output_type": "execute_result"
    }
   ],
   "source": [
    "#Tamaño de los datos\n",
    "datos.shape"
   ]
  },
  {
   "cell_type": "code",
   "execution_count": 5,
   "metadata": {},
   "outputs": [
    {
     "name": "stdout",
     "output_type": "stream",
     "text": [
      "Tamaño de X entrenamiento: (700, 1)\n",
      "Tamaño de X prueba: (300, 1)\n",
      "Tamaño de y entrenamiento: (700,)\n",
      "Tamaño de y prueba: (300,)\n"
     ]
    }
   ],
   "source": [
    "# Dividir en train y test\n",
    "X_train, X_test, y_train, y_test = train_test_split(X, y, test_size=0.3)\n",
    "print(\"Tamaño de X entrenamiento:\",X_train.shape)\n",
    "print(\"Tamaño de X prueba:\",X_test.shape)\n",
    "print(\"Tamaño de y entrenamiento:\",y_train.shape)\n",
    "print(\"Tamaño de y prueba:\",y_test.shape)\n"
   ]
  },
  {
   "cell_type": "code",
   "execution_count": 6,
   "metadata": {},
   "outputs": [
    {
     "data": {
      "text/plain": [
       "array([[-4.33332995],\n",
       "       [-5.43818281],\n",
       "       [-7.1258443 ],\n",
       "       [ 7.05550492],\n",
       "       [ 5.35639052]])"
      ]
     },
     "execution_count": 6,
     "metadata": {},
     "output_type": "execute_result"
    }
   ],
   "source": [
    "X_train[:5,:]"
   ]
  },
  {
   "cell_type": "code",
   "execution_count": 7,
   "metadata": {},
   "outputs": [
    {
     "name": "stdout",
     "output_type": "stream",
     "text": [
      "Tamaño de X entrenamiento: (700, 1)\n",
      "Tamaño de X prueba: (300, 1)\n",
      "Tamaño de y entrenamiento: (700,)\n",
      "Tamaño de y prueba: (300,)\n"
     ]
    }
   ],
   "source": [
    "# Dividir en train y test con replicamiento\n",
    "X_train, X_test, y_train, y_test = train_test_split(X, y, test_size=0.3, random_state=42)\n",
    "# random_state (es para que empiece donde mismo con la semilla)\n",
    "print(\"Tamaño de X entrenamiento:\",X_train.shape)\n",
    "print(\"Tamaño de X prueba:\",X_test.shape)\n",
    "print(\"Tamaño de y entrenamiento:\",y_train.shape)\n",
    "print(\"Tamaño de y prueba:\",y_test.shape)\n"
   ]
  },
  {
   "cell_type": "code",
   "execution_count": 8,
   "metadata": {},
   "outputs": [
    {
     "data": {
      "text/plain": [
       "array([[-4.33043156],\n",
       "       [-8.77297726],\n",
       "       [ 4.83986536],\n",
       "       [-8.22705462],\n",
       "       [ 7.14403481]])"
      ]
     },
     "execution_count": 8,
     "metadata": {},
     "output_type": "execute_result"
    }
   ],
   "source": [
    "X_train[:5,:]"
   ]
  },
  {
   "cell_type": "markdown",
   "metadata": {},
   "source": [
    "#### <font color= #2E9AFE> Divisiones estratificadas</font>\n",
    "\n",
    "**Para problemas de clasificación**\n",
    "\n",
    "La mayoría de los problemas de clasificación no tienen un número balanceado de datos para cada etiqueta de clase. \n",
    "Por lo tanto es deseable dividir los datos en conjunto de entrenamiento y prueba de tal manera que se conserven las mismas proporciones de datos en cada clase observada en el conjunto de datos original. \n",
    "\n",
    "Para eso podemos usar la división estratificada de los datos de entrenamiento y prueba"
   ]
  },
  {
   "cell_type": "code",
   "execution_count": 9,
   "metadata": {},
   "outputs": [
    {
     "data": {
      "text/plain": [
       "0.0    334\n",
       "2.0    333\n",
       "1.0    333\n",
       "Name: y, dtype: int64"
      ]
     },
     "execution_count": 9,
     "metadata": {},
     "output_type": "execute_result"
    }
   ],
   "source": [
    "datos.y.value_counts()"
   ]
  },
  {
   "cell_type": "code",
   "execution_count": 10,
   "metadata": {},
   "outputs": [],
   "source": [
    "# Dividir en train y test con división estratificada\n",
    "X_train, X_test, y_train, y_test = train_test_split(X, y, test_size=0.30, random_state=42, stratify=y)"
   ]
  },
  {
   "cell_type": "code",
   "execution_count": 11,
   "metadata": {},
   "outputs": [
    {
     "data": {
      "text/plain": [
       "0    234\n",
       "1    233\n",
       "2    233\n",
       "dtype: int64"
      ]
     },
     "execution_count": 11,
     "metadata": {},
     "output_type": "execute_result"
    }
   ],
   "source": [
    "pd.DataFrame(y_train).value_counts()"
   ]
  },
  {
   "cell_type": "markdown",
   "metadata": {},
   "source": [
    "### <font color= #2E9AFE> Entrenamiento y prueba para modelos de machine learning</font>\n",
    "\n",
    "#### <font color= blue> Clasificación</font>"
   ]
  },
  {
   "cell_type": "code",
   "execution_count": 12,
   "metadata": {},
   "outputs": [],
   "source": [
    "#Cargar datos\n",
    "data = pd.read_csv('C:/Users/Castillejos/Tercer Semestre/Lab Modelado de Datos/glass.data',header=None)\n",
    "names = ['ID','Indice_Refraccion','Na','Mg','Al','Si','K', 'Ca','Ba','Fe','Tipo_Vidrio']\n",
    "data.columns = names\n",
    "\n",
    "X = data.iloc[:, :-1]\n",
    "y = data.iloc[:, -1]"
   ]
  },
  {
   "cell_type": "code",
   "execution_count": 13,
   "metadata": {},
   "outputs": [
    {
     "data": {
      "text/plain": [
       "(214, 11)"
      ]
     },
     "execution_count": 13,
     "metadata": {},
     "output_type": "execute_result"
    }
   ],
   "source": [
    "data.shape"
   ]
  },
  {
   "cell_type": "code",
   "execution_count": 14,
   "metadata": {},
   "outputs": [
    {
     "data": {
      "text/plain": [
       "2    76\n",
       "1    70\n",
       "7    29\n",
       "3    17\n",
       "5    13\n",
       "6     9\n",
       "Name: Tipo_Vidrio, dtype: int64"
      ]
     },
     "execution_count": 14,
     "metadata": {},
     "output_type": "execute_result"
    }
   ],
   "source": [
    "data.Tipo_Vidrio.value_counts()"
   ]
  },
  {
   "cell_type": "code",
   "execution_count": 15,
   "metadata": {},
   "outputs": [
    {
     "name": "stdout",
     "output_type": "stream",
     "text": [
      "Tamaño de X entrenamiento: (149, 10)\n",
      "Tamaño de X prueba: (65, 10)\n",
      "Tamaño de y entrenamiento: (149,)\n",
      "Tamaño de y prueba: (65,)\n"
     ]
    }
   ],
   "source": [
    "#dividir entre train y test\n",
    "X_train, X_test, y_train, y_test = train_test_split(X, y, test_size=0.3, random_state=46, stratify=y)\n",
    "print(\"Tamaño de X entrenamiento:\",X_train.shape)\n",
    "print(\"Tamaño de X prueba:\",X_test.shape)\n",
    "print(\"Tamaño de y entrenamiento:\",y_train.shape)\n",
    "print(\"Tamaño de y prueba:\",y_test.shape)"
   ]
  },
  {
   "cell_type": "code",
   "execution_count": 16,
   "metadata": {},
   "outputs": [
    {
     "data": {
      "text/plain": [
       "2    53\n",
       "1    49\n",
       "7    20\n",
       "3    12\n",
       "5     9\n",
       "6     6\n",
       "Name: Tipo_Vidrio, dtype: int64"
      ]
     },
     "execution_count": 16,
     "metadata": {},
     "output_type": "execute_result"
    }
   ],
   "source": [
    "y_train.value_counts()"
   ]
  },
  {
   "cell_type": "code",
   "execution_count": 17,
   "metadata": {},
   "outputs": [
    {
     "name": "stdout",
     "output_type": "stream",
     "text": [
      "Accuracy: 0.985\n"
     ]
    },
    {
     "name": "stderr",
     "output_type": "stream",
     "text": [
      "C:\\Users\\Castillejos\\anaconda3\\lib\\site-packages\\sklearn\\linear_model\\_logistic.py:763: ConvergenceWarning: lbfgs failed to converge (status=1):\n",
      "STOP: TOTAL NO. of ITERATIONS REACHED LIMIT.\n",
      "\n",
      "Increase the number of iterations (max_iter) or scale the data as shown in:\n",
      "    https://scikit-learn.org/stable/modules/preprocessing.html\n",
      "Please also refer to the documentation for alternative solver options:\n",
      "    https://scikit-learn.org/stable/modules/linear_model.html#logistic-regression\n",
      "  n_iter_i = _check_optimize_result(\n"
     ]
    }
   ],
   "source": [
    "#Ajustar regresión logística\n",
    "from sklearn.linear_model import LogisticRegression\n",
    "from sklearn.metrics import accuracy_score\n",
    "\n",
    "#crear objeto \n",
    "model = LogisticRegression()\n",
    "#Ajustamos modelo con datos de entrenamiento\n",
    "model.fit(X_train, y_train)\n",
    "\n",
    "#creamos predicciones con los datos de prueba -> creamos la ^y\n",
    "pred = model.predict(X_test)\n",
    "\n",
    "#Evaluamos predicciones contra datos reales\n",
    "acc = accuracy_score(y_test, pred)\n",
    "print('Accuracy: %.3f' % acc)"
   ]
  },
  {
   "cell_type": "markdown",
   "metadata": {},
   "source": [
    "#### <font color= blue> Regresión</font>"
   ]
  },
  {
   "cell_type": "code",
   "execution_count": 18,
   "metadata": {},
   "outputs": [
    {
     "data": {
      "text/html": [
       "<div>\n",
       "<style scoped>\n",
       "    .dataframe tbody tr th:only-of-type {\n",
       "        vertical-align: middle;\n",
       "    }\n",
       "\n",
       "    .dataframe tbody tr th {\n",
       "        vertical-align: top;\n",
       "    }\n",
       "\n",
       "    .dataframe thead th {\n",
       "        text-align: right;\n",
       "    }\n",
       "</style>\n",
       "<table border=\"1\" class=\"dataframe\">\n",
       "  <thead>\n",
       "    <tr style=\"text-align: right;\">\n",
       "      <th></th>\n",
       "      <th>CRIM</th>\n",
       "      <th>ZN</th>\n",
       "      <th>INDUS</th>\n",
       "      <th>CHAS</th>\n",
       "      <th>NOX</th>\n",
       "      <th>RM</th>\n",
       "      <th>AGE</th>\n",
       "      <th>DIS</th>\n",
       "      <th>RAD</th>\n",
       "      <th>TAX</th>\n",
       "      <th>PTRATIO</th>\n",
       "      <th>B</th>\n",
       "      <th>LSTAT</th>\n",
       "      <th>target</th>\n",
       "    </tr>\n",
       "  </thead>\n",
       "  <tbody>\n",
       "    <tr>\n",
       "      <th>0</th>\n",
       "      <td>0.00632</td>\n",
       "      <td>18.0</td>\n",
       "      <td>2.31</td>\n",
       "      <td>0.0</td>\n",
       "      <td>0.538</td>\n",
       "      <td>6.575</td>\n",
       "      <td>65.2</td>\n",
       "      <td>4.0900</td>\n",
       "      <td>1.0</td>\n",
       "      <td>296.0</td>\n",
       "      <td>15.3</td>\n",
       "      <td>396.90</td>\n",
       "      <td>4.98</td>\n",
       "      <td>24.0</td>\n",
       "    </tr>\n",
       "    <tr>\n",
       "      <th>1</th>\n",
       "      <td>0.02731</td>\n",
       "      <td>0.0</td>\n",
       "      <td>7.07</td>\n",
       "      <td>0.0</td>\n",
       "      <td>0.469</td>\n",
       "      <td>6.421</td>\n",
       "      <td>78.9</td>\n",
       "      <td>4.9671</td>\n",
       "      <td>2.0</td>\n",
       "      <td>242.0</td>\n",
       "      <td>17.8</td>\n",
       "      <td>396.90</td>\n",
       "      <td>9.14</td>\n",
       "      <td>21.6</td>\n",
       "    </tr>\n",
       "    <tr>\n",
       "      <th>2</th>\n",
       "      <td>0.02729</td>\n",
       "      <td>0.0</td>\n",
       "      <td>7.07</td>\n",
       "      <td>0.0</td>\n",
       "      <td>0.469</td>\n",
       "      <td>7.185</td>\n",
       "      <td>61.1</td>\n",
       "      <td>4.9671</td>\n",
       "      <td>2.0</td>\n",
       "      <td>242.0</td>\n",
       "      <td>17.8</td>\n",
       "      <td>392.83</td>\n",
       "      <td>4.03</td>\n",
       "      <td>34.7</td>\n",
       "    </tr>\n",
       "    <tr>\n",
       "      <th>3</th>\n",
       "      <td>0.03237</td>\n",
       "      <td>0.0</td>\n",
       "      <td>2.18</td>\n",
       "      <td>0.0</td>\n",
       "      <td>0.458</td>\n",
       "      <td>6.998</td>\n",
       "      <td>45.8</td>\n",
       "      <td>6.0622</td>\n",
       "      <td>3.0</td>\n",
       "      <td>222.0</td>\n",
       "      <td>18.7</td>\n",
       "      <td>394.63</td>\n",
       "      <td>2.94</td>\n",
       "      <td>33.4</td>\n",
       "    </tr>\n",
       "    <tr>\n",
       "      <th>4</th>\n",
       "      <td>0.06905</td>\n",
       "      <td>0.0</td>\n",
       "      <td>2.18</td>\n",
       "      <td>0.0</td>\n",
       "      <td>0.458</td>\n",
       "      <td>7.147</td>\n",
       "      <td>54.2</td>\n",
       "      <td>6.0622</td>\n",
       "      <td>3.0</td>\n",
       "      <td>222.0</td>\n",
       "      <td>18.7</td>\n",
       "      <td>396.90</td>\n",
       "      <td>5.33</td>\n",
       "      <td>36.2</td>\n",
       "    </tr>\n",
       "  </tbody>\n",
       "</table>\n",
       "</div>"
      ],
      "text/plain": [
       "      CRIM    ZN  INDUS  CHAS    NOX     RM   AGE     DIS  RAD    TAX  \\\n",
       "0  0.00632  18.0   2.31   0.0  0.538  6.575  65.2  4.0900  1.0  296.0   \n",
       "1  0.02731   0.0   7.07   0.0  0.469  6.421  78.9  4.9671  2.0  242.0   \n",
       "2  0.02729   0.0   7.07   0.0  0.469  7.185  61.1  4.9671  2.0  242.0   \n",
       "3  0.03237   0.0   2.18   0.0  0.458  6.998  45.8  6.0622  3.0  222.0   \n",
       "4  0.06905   0.0   2.18   0.0  0.458  7.147  54.2  6.0622  3.0  222.0   \n",
       "\n",
       "   PTRATIO       B  LSTAT  target  \n",
       "0     15.3  396.90   4.98    24.0  \n",
       "1     17.8  396.90   9.14    21.6  \n",
       "2     17.8  392.83   4.03    34.7  \n",
       "3     18.7  394.63   2.94    33.4  \n",
       "4     18.7  396.90   5.33    36.2  "
      ]
     },
     "execution_count": 18,
     "metadata": {},
     "output_type": "execute_result"
    }
   ],
   "source": [
    "from sklearn import datasets\n",
    "boston_data = datasets.load_boston()\n",
    "df_boston = pd.DataFrame(boston_data.data,columns=boston_data.feature_names)\n",
    "df_boston['target'] = pd.Series(boston_data.target)\n",
    "df_boston.head()"
   ]
  },
  {
   "cell_type": "code",
   "execution_count": 19,
   "metadata": {},
   "outputs": [],
   "source": [
    "X = df_boston.iloc[:, :-1]\n",
    "y = df_boston.iloc[:, -1]"
   ]
  },
  {
   "cell_type": "code",
   "execution_count": 20,
   "metadata": {},
   "outputs": [
    {
     "name": "stdout",
     "output_type": "stream",
     "text": [
      "Tamaño de X entrenamiento: (354, 13)\n",
      "Tamaño de X prueba: (152, 13)\n",
      "Tamaño de y entrenamiento: (354,)\n",
      "Tamaño de y prueba: (152,)\n"
     ]
    }
   ],
   "source": [
    "#divido datos en prueba y entrenamiento\n",
    "X_train, X_test, y_train, y_test = train_test_split(X, y, test_size=0.30, random_state=1)\n",
    "print(\"Tamaño de X entrenamiento:\",X_train.shape)\n",
    "print(\"Tamaño de X prueba:\",X_test.shape)\n",
    "print(\"Tamaño de y entrenamiento:\",y_train.shape)\n",
    "print(\"Tamaño de y prueba:\",y_test.shape)"
   ]
  },
  {
   "cell_type": "code",
   "execution_count": 21,
   "metadata": {},
   "outputs": [
    {
     "name": "stdout",
     "output_type": "stream",
     "text": [
      "MAE: 3.345\n"
     ]
    }
   ],
   "source": [
    "from sklearn.metrics import mean_absolute_error\n",
    "from sklearn.linear_model import LinearRegression\n",
    "\n",
    "#crear objeto \n",
    "model = LinearRegression()\n",
    "#Ajustamos modelo con datos de entrenamiento\n",
    "model.fit(X_train, y_train)\n",
    "\n",
    "#creamos predicciones\n",
    "pred = model.predict(X_test)\n",
    "\n",
    "#Evaluamos predicciones contra datos reales\n",
    "mae = mean_absolute_error(y_test, pred)\n",
    "print('MAE: %.3f' % mae)"
   ]
  },
  {
   "cell_type": "markdown",
   "metadata": {},
   "source": [
    "**¿Cuál es la desventaja de usar el procedimiento de test/train split para evaluar el modelo?**\n",
    "\n",
    "Proporciona una estimación de alta varianza ya que si cambiamos cuáles observaciones se van para los datos de prueba, puede cambiar significantemente la precisión del modelo. "
   ]
  },
  {
   "cell_type": "code",
   "execution_count": 22,
   "metadata": {},
   "outputs": [],
   "source": [
    "#cargar librerías\n",
    "from sklearn.datasets import load_iris\n",
    "from sklearn.model_selection import train_test_split\n",
    "from sklearn.neighbors import KNeighborsClassifier\n",
    "from sklearn import metrics"
   ]
  },
  {
   "cell_type": "code",
   "execution_count": 23,
   "metadata": {},
   "outputs": [],
   "source": [
    "#cargar datos\n",
    "iris = load_iris()\n",
    "#separar X y Y\n",
    "X=iris.data\n",
    "y=iris.target"
   ]
  },
  {
   "cell_type": "code",
   "execution_count": 24,
   "metadata": {},
   "outputs": [
    {
     "name": "stdout",
     "output_type": "stream",
     "text": [
      "Accuracy: 0.921\n"
     ]
    }
   ],
   "source": [
    "#Hacer el train/test split con diferentes valores aleatorios\n",
    "X_train, X_test, y_train, y_test = train_test_split(X, y, random_state=46) #2\n",
    "\n",
    "#Revisar el accuracy (precisión) de clasificación del KNN\n",
    "model = KNeighborsClassifier(n_neighbors=5)\n",
    "model.fit(X_train, y_train)\n",
    "y_pred = model.predict(X_test)\n",
    "acc = metrics.accuracy_score(y_test, y_pred)\n",
    "print('Accuracy: %.3f' % acc)"
   ]
  },
  {
   "cell_type": "markdown",
   "metadata": {},
   "source": [
    "**Pregunta:** Qué pasaría si dividiéramos los datos muchas veces de distintas maneras, calculando la presición para cada partición y finalmente promediando los resultados?\n",
    "\n",
    "**Respuesta:** usamos cross validation!\n",
    "\n",
    "**Otra Pregunta:** ¿cuándo hacemos la selección de variables? antes o después de dividir los datos?\n",
    "\n",
    "Demostrémoslo"
   ]
  },
  {
   "cell_type": "code",
   "execution_count": 25,
   "metadata": {},
   "outputs": [
    {
     "data": {
      "text/plain": [
       "0.704"
      ]
     },
     "execution_count": 25,
     "metadata": {},
     "output_type": "execute_result"
    }
   ],
   "source": [
    "#Selección de variables antes de dividir los datos\n",
    "\n",
    "import numpy as np\n",
    "from sklearn.feature_selection import SelectKBest\n",
    "from sklearn.model_selection import train_test_split\n",
    "from sklearn.linear_model import LogisticRegression\n",
    "from sklearn.metrics import accuracy_score\n",
    "\n",
    "# datos aleatorios:\n",
    "X = np.random.randn(500, 10000)\n",
    "y = np.random.choice(2, size=500)\n",
    "\n",
    "selector = SelectKBest(k=25)\n",
    "# primero seleccionar variables\n",
    "X_selected = selector.fit_transform(X,y)\n",
    "# después dividir\n",
    "X_selected_train, X_selected_test, y_train, y_test = train_test_split(X_selected, y, test_size=0.25, random_state=42)\n",
    "\n",
    "# ajustar regresión logística\n",
    "lr = LogisticRegression()\n",
    "lr.fit(X_selected_train,y_train)\n",
    "\n",
    "# predecir en los datos de prueba y obtener la precisión de prueba:\n",
    "y_pred = lr.predict(X_selected_test)\n",
    "accuracy_score(y_test, y_pred)"
   ]
  },
  {
   "cell_type": "markdown",
   "metadata": {},
   "source": [
    "Obtenemos una precisión de prueba del 76%! en un problema binario, donde de acuerdo con las reglas básicas de la estadística, deberíamos tener algo cerca del 50%!\n",
    "\n",
    "La verdad detrás... es que obtvimos esa pecisión de prueba porque hicimos un error básico: erróneamente pensamos que los datos de prueba no fueron vistos, pero de hecho los datos de prueba ya fueron vitos por el modelo al crear el proceso durante la selección de variables, en particular aquí:\n",
    "\n",
    "**X_selected = selector.fit_transform(X,y)**\n",
    "\n",
    "¿Qué tan mal podemos estar en realidad? supongamos que, después de haber terminado con nuestro modelo y haberlo implementado (esperando algo similar al 76% de precisión en la práctica con nuevos datos no vistos), obtenemos algunos datos realmente nuevos:"
   ]
  },
  {
   "cell_type": "code",
   "execution_count": 26,
   "metadata": {},
   "outputs": [
    {
     "data": {
      "text/plain": [
       "0.45"
      ]
     },
     "execution_count": 26,
     "metadata": {},
     "output_type": "execute_result"
    }
   ],
   "source": [
    "X_new = np.random.randn(500, 10000)\n",
    "y_new = np.random.choice(2, size=500)\n",
    "\n",
    "#¿cómo funcionaría nuestro modelo con datos nuevos?\n",
    "#seleccionar las mismas variables en los nuevos datos\n",
    "X_new_selected = selector.transform(X_new)\n",
    "#predecir y obtener la precisón\n",
    "y_new_pred = lr.predict(X_new_selected)\n",
    "accuracy_score(y_new, y_new_pred)"
   ]
  },
  {
   "cell_type": "markdown",
   "metadata": {},
   "source": [
    "¿No que 74%?"
   ]
  },
  {
   "cell_type": "code",
   "execution_count": 27,
   "metadata": {},
   "outputs": [
    {
     "data": {
      "text/plain": [
       "0.544"
      ]
     },
     "execution_count": 27,
     "metadata": {},
     "output_type": "execute_result"
    }
   ],
   "source": [
    "#Forma correcta de elegir variables (dividir primero y elegir variables basadas en los datos de entrenamiento)\n",
    "# dividir primero\n",
    "X_train, X_test, y_train, y_test = train_test_split(X, y, test_size=0.25, random_state=42)\n",
    "# luego seleccione variables usando solo el conjunto de entrenamiento\n",
    "selector = SelectKBest(k=25)\n",
    "X_train_selected = selector.fit_transform(X_train,y_train)\n",
    "\n",
    "# ajustar de nuevo una regresión logística simple\n",
    "lr.fit(X_train_selected,y_train)\n",
    "# seleccione las mismas variables en el conjunto de prueba, prediga y obtenga la precisión de la prueba:\n",
    "X_test_selected = selector.transform(X_test)\n",
    "y_pred = lr.predict(X_test_selected)\n",
    "accuracy_score(y_test, y_pred)\n"
   ]
  },
  {
   "cell_type": "code",
   "execution_count": 28,
   "metadata": {},
   "outputs": [
    {
     "data": {
      "text/plain": [
       "0.49"
      ]
     },
     "execution_count": 28,
     "metadata": {},
     "output_type": "execute_result"
    }
   ],
   "source": [
    "#¿cómo funcionaría nuestro modelo con datos nuevos?\n",
    "#seleccionar las mismas variables en los nuevos datos\n",
    "X_new_selected = selector.transform(X_new)\n",
    "#predecir y obtener la precisón\n",
    "y_new_pred = lr.predict(X_new_selected)\n",
    "accuracy_score(y_new, y_new_pred)"
   ]
  },
  {
   "cell_type": "markdown",
   "metadata": {},
   "source": [
    "### <font color= #2E9AFE> K-Fold Cross Validation</font>\n",
    "\n",
    "#### Pasos\n",
    "\n",
    "1. Dividir los datos en \"K\" partes iguales (Folds)\n",
    "2. Usamos 1 parte como los datos de prueba y la unión de las partes restantes como datos de entrenamiento\n",
    "3. Calcular la precisión de prueba (Testing accuracy)\n",
    "4. Repetimos pasos 2 y 3 \"K\" veces, usando diferentes partes como conjunto de prueba en cada vez. \n",
    "5. Usar la presición de prueba promedio como estimación de la precisión fuera de la muetra. "
   ]
  },
  {
   "cell_type": "code",
   "execution_count": 29,
   "metadata": {},
   "outputs": [
    {
     "name": "stdout",
     "output_type": "stream",
     "text": [
      "TRAIN: [100 101 102 103 104 105 106 107 108 109 110 111 112 113 114 115 116 117\n",
      " 118 119 120 121 122 123 124 125 126 127 128 129 130 131 132 133 134 135\n",
      " 136 137 138 139 140 141 142 143 144 145 146 147 148 149 150 151 152 153\n",
      " 154 155 156 157 158 159 160 161 162 163 164 165 166 167 168 169 170 171\n",
      " 172 173 174 175 176 177 178 179 180 181 182 183 184 185 186 187 188 189\n",
      " 190 191 192 193 194 195 196 197 198 199 200 201 202 203 204 205 206 207\n",
      " 208 209 210 211 212 213 214 215 216 217 218 219 220 221 222 223 224 225\n",
      " 226 227 228 229 230 231 232 233 234 235 236 237 238 239 240 241 242 243\n",
      " 244 245 246 247 248 249 250 251 252 253 254 255 256 257 258 259 260 261\n",
      " 262 263 264 265 266 267 268 269 270 271 272 273 274 275 276 277 278 279\n",
      " 280 281 282 283 284 285 286 287 288 289 290 291 292 293 294 295 296 297\n",
      " 298 299 300 301 302 303 304 305 306 307 308 309 310 311 312 313 314 315\n",
      " 316 317 318 319 320 321 322 323 324 325 326 327 328 329 330 331 332 333\n",
      " 334 335 336 337 338 339 340 341 342 343 344 345 346 347 348 349 350 351\n",
      " 352 353 354 355 356 357 358 359 360 361 362 363 364 365 366 367 368 369\n",
      " 370 371 372 373 374 375 376 377 378 379 380 381 382 383 384 385 386 387\n",
      " 388 389 390 391 392 393 394 395 396 397 398 399 400 401 402 403 404 405\n",
      " 406 407 408 409 410 411 412 413 414 415 416 417 418 419 420 421 422 423\n",
      " 424 425 426 427 428 429 430 431 432 433 434 435 436 437 438 439 440 441\n",
      " 442 443 444 445 446 447 448 449 450 451 452 453 454 455 456 457 458 459\n",
      " 460 461 462 463 464 465 466 467 468 469 470 471 472 473 474 475 476 477\n",
      " 478 479 480 481 482 483 484 485 486 487 488 489 490 491 492 493 494 495\n",
      " 496 497 498 499] TEST: [ 0  1  2  3  4  5  6  7  8  9 10 11 12 13 14 15 16 17 18 19 20 21 22 23\n",
      " 24 25 26 27 28 29 30 31 32 33 34 35 36 37 38 39 40 41 42 43 44 45 46 47\n",
      " 48 49 50 51 52 53 54 55 56 57 58 59 60 61 62 63 64 65 66 67 68 69 70 71\n",
      " 72 73 74 75 76 77 78 79 80 81 82 83 84 85 86 87 88 89 90 91 92 93 94 95\n",
      " 96 97 98 99]\n",
      "TRAIN: [  0   1   2   3   4   5   6   7   8   9  10  11  12  13  14  15  16  17\n",
      "  18  19  20  21  22  23  24  25  26  27  28  29  30  31  32  33  34  35\n",
      "  36  37  38  39  40  41  42  43  44  45  46  47  48  49  50  51  52  53\n",
      "  54  55  56  57  58  59  60  61  62  63  64  65  66  67  68  69  70  71\n",
      "  72  73  74  75  76  77  78  79  80  81  82  83  84  85  86  87  88  89\n",
      "  90  91  92  93  94  95  96  97  98  99 200 201 202 203 204 205 206 207\n",
      " 208 209 210 211 212 213 214 215 216 217 218 219 220 221 222 223 224 225\n",
      " 226 227 228 229 230 231 232 233 234 235 236 237 238 239 240 241 242 243\n",
      " 244 245 246 247 248 249 250 251 252 253 254 255 256 257 258 259 260 261\n",
      " 262 263 264 265 266 267 268 269 270 271 272 273 274 275 276 277 278 279\n",
      " 280 281 282 283 284 285 286 287 288 289 290 291 292 293 294 295 296 297\n",
      " 298 299 300 301 302 303 304 305 306 307 308 309 310 311 312 313 314 315\n",
      " 316 317 318 319 320 321 322 323 324 325 326 327 328 329 330 331 332 333\n",
      " 334 335 336 337 338 339 340 341 342 343 344 345 346 347 348 349 350 351\n",
      " 352 353 354 355 356 357 358 359 360 361 362 363 364 365 366 367 368 369\n",
      " 370 371 372 373 374 375 376 377 378 379 380 381 382 383 384 385 386 387\n",
      " 388 389 390 391 392 393 394 395 396 397 398 399 400 401 402 403 404 405\n",
      " 406 407 408 409 410 411 412 413 414 415 416 417 418 419 420 421 422 423\n",
      " 424 425 426 427 428 429 430 431 432 433 434 435 436 437 438 439 440 441\n",
      " 442 443 444 445 446 447 448 449 450 451 452 453 454 455 456 457 458 459\n",
      " 460 461 462 463 464 465 466 467 468 469 470 471 472 473 474 475 476 477\n",
      " 478 479 480 481 482 483 484 485 486 487 488 489 490 491 492 493 494 495\n",
      " 496 497 498 499] TEST: [100 101 102 103 104 105 106 107 108 109 110 111 112 113 114 115 116 117\n",
      " 118 119 120 121 122 123 124 125 126 127 128 129 130 131 132 133 134 135\n",
      " 136 137 138 139 140 141 142 143 144 145 146 147 148 149 150 151 152 153\n",
      " 154 155 156 157 158 159 160 161 162 163 164 165 166 167 168 169 170 171\n",
      " 172 173 174 175 176 177 178 179 180 181 182 183 184 185 186 187 188 189\n",
      " 190 191 192 193 194 195 196 197 198 199]\n",
      "TRAIN: [  0   1   2   3   4   5   6   7   8   9  10  11  12  13  14  15  16  17\n",
      "  18  19  20  21  22  23  24  25  26  27  28  29  30  31  32  33  34  35\n",
      "  36  37  38  39  40  41  42  43  44  45  46  47  48  49  50  51  52  53\n",
      "  54  55  56  57  58  59  60  61  62  63  64  65  66  67  68  69  70  71\n",
      "  72  73  74  75  76  77  78  79  80  81  82  83  84  85  86  87  88  89\n",
      "  90  91  92  93  94  95  96  97  98  99 100 101 102 103 104 105 106 107\n",
      " 108 109 110 111 112 113 114 115 116 117 118 119 120 121 122 123 124 125\n",
      " 126 127 128 129 130 131 132 133 134 135 136 137 138 139 140 141 142 143\n",
      " 144 145 146 147 148 149 150 151 152 153 154 155 156 157 158 159 160 161\n",
      " 162 163 164 165 166 167 168 169 170 171 172 173 174 175 176 177 178 179\n",
      " 180 181 182 183 184 185 186 187 188 189 190 191 192 193 194 195 196 197\n",
      " 198 199 300 301 302 303 304 305 306 307 308 309 310 311 312 313 314 315\n",
      " 316 317 318 319 320 321 322 323 324 325 326 327 328 329 330 331 332 333\n",
      " 334 335 336 337 338 339 340 341 342 343 344 345 346 347 348 349 350 351\n",
      " 352 353 354 355 356 357 358 359 360 361 362 363 364 365 366 367 368 369\n",
      " 370 371 372 373 374 375 376 377 378 379 380 381 382 383 384 385 386 387\n",
      " 388 389 390 391 392 393 394 395 396 397 398 399 400 401 402 403 404 405\n",
      " 406 407 408 409 410 411 412 413 414 415 416 417 418 419 420 421 422 423\n",
      " 424 425 426 427 428 429 430 431 432 433 434 435 436 437 438 439 440 441\n",
      " 442 443 444 445 446 447 448 449 450 451 452 453 454 455 456 457 458 459\n",
      " 460 461 462 463 464 465 466 467 468 469 470 471 472 473 474 475 476 477\n",
      " 478 479 480 481 482 483 484 485 486 487 488 489 490 491 492 493 494 495\n",
      " 496 497 498 499] TEST: [200 201 202 203 204 205 206 207 208 209 210 211 212 213 214 215 216 217\n",
      " 218 219 220 221 222 223 224 225 226 227 228 229 230 231 232 233 234 235\n",
      " 236 237 238 239 240 241 242 243 244 245 246 247 248 249 250 251 252 253\n",
      " 254 255 256 257 258 259 260 261 262 263 264 265 266 267 268 269 270 271\n",
      " 272 273 274 275 276 277 278 279 280 281 282 283 284 285 286 287 288 289\n",
      " 290 291 292 293 294 295 296 297 298 299]\n",
      "TRAIN: [  0   1   2   3   4   5   6   7   8   9  10  11  12  13  14  15  16  17\n",
      "  18  19  20  21  22  23  24  25  26  27  28  29  30  31  32  33  34  35\n",
      "  36  37  38  39  40  41  42  43  44  45  46  47  48  49  50  51  52  53\n",
      "  54  55  56  57  58  59  60  61  62  63  64  65  66  67  68  69  70  71\n",
      "  72  73  74  75  76  77  78  79  80  81  82  83  84  85  86  87  88  89\n",
      "  90  91  92  93  94  95  96  97  98  99 100 101 102 103 104 105 106 107\n",
      " 108 109 110 111 112 113 114 115 116 117 118 119 120 121 122 123 124 125\n",
      " 126 127 128 129 130 131 132 133 134 135 136 137 138 139 140 141 142 143\n",
      " 144 145 146 147 148 149 150 151 152 153 154 155 156 157 158 159 160 161\n",
      " 162 163 164 165 166 167 168 169 170 171 172 173 174 175 176 177 178 179\n",
      " 180 181 182 183 184 185 186 187 188 189 190 191 192 193 194 195 196 197\n",
      " 198 199 200 201 202 203 204 205 206 207 208 209 210 211 212 213 214 215\n",
      " 216 217 218 219 220 221 222 223 224 225 226 227 228 229 230 231 232 233\n",
      " 234 235 236 237 238 239 240 241 242 243 244 245 246 247 248 249 250 251\n",
      " 252 253 254 255 256 257 258 259 260 261 262 263 264 265 266 267 268 269\n",
      " 270 271 272 273 274 275 276 277 278 279 280 281 282 283 284 285 286 287\n",
      " 288 289 290 291 292 293 294 295 296 297 298 299 400 401 402 403 404 405\n",
      " 406 407 408 409 410 411 412 413 414 415 416 417 418 419 420 421 422 423\n",
      " 424 425 426 427 428 429 430 431 432 433 434 435 436 437 438 439 440 441\n",
      " 442 443 444 445 446 447 448 449 450 451 452 453 454 455 456 457 458 459\n",
      " 460 461 462 463 464 465 466 467 468 469 470 471 472 473 474 475 476 477\n",
      " 478 479 480 481 482 483 484 485 486 487 488 489 490 491 492 493 494 495\n",
      " 496 497 498 499] TEST: [300 301 302 303 304 305 306 307 308 309 310 311 312 313 314 315 316 317\n",
      " 318 319 320 321 322 323 324 325 326 327 328 329 330 331 332 333 334 335\n",
      " 336 337 338 339 340 341 342 343 344 345 346 347 348 349 350 351 352 353\n",
      " 354 355 356 357 358 359 360 361 362 363 364 365 366 367 368 369 370 371\n",
      " 372 373 374 375 376 377 378 379 380 381 382 383 384 385 386 387 388 389\n",
      " 390 391 392 393 394 395 396 397 398 399]\n",
      "TRAIN: [  0   1   2   3   4   5   6   7   8   9  10  11  12  13  14  15  16  17\n",
      "  18  19  20  21  22  23  24  25  26  27  28  29  30  31  32  33  34  35\n",
      "  36  37  38  39  40  41  42  43  44  45  46  47  48  49  50  51  52  53\n",
      "  54  55  56  57  58  59  60  61  62  63  64  65  66  67  68  69  70  71\n",
      "  72  73  74  75  76  77  78  79  80  81  82  83  84  85  86  87  88  89\n",
      "  90  91  92  93  94  95  96  97  98  99 100 101 102 103 104 105 106 107\n",
      " 108 109 110 111 112 113 114 115 116 117 118 119 120 121 122 123 124 125\n",
      " 126 127 128 129 130 131 132 133 134 135 136 137 138 139 140 141 142 143\n",
      " 144 145 146 147 148 149 150 151 152 153 154 155 156 157 158 159 160 161\n",
      " 162 163 164 165 166 167 168 169 170 171 172 173 174 175 176 177 178 179\n",
      " 180 181 182 183 184 185 186 187 188 189 190 191 192 193 194 195 196 197\n",
      " 198 199 200 201 202 203 204 205 206 207 208 209 210 211 212 213 214 215\n",
      " 216 217 218 219 220 221 222 223 224 225 226 227 228 229 230 231 232 233\n",
      " 234 235 236 237 238 239 240 241 242 243 244 245 246 247 248 249 250 251\n",
      " 252 253 254 255 256 257 258 259 260 261 262 263 264 265 266 267 268 269\n",
      " 270 271 272 273 274 275 276 277 278 279 280 281 282 283 284 285 286 287\n",
      " 288 289 290 291 292 293 294 295 296 297 298 299 300 301 302 303 304 305\n",
      " 306 307 308 309 310 311 312 313 314 315 316 317 318 319 320 321 322 323\n",
      " 324 325 326 327 328 329 330 331 332 333 334 335 336 337 338 339 340 341\n",
      " 342 343 344 345 346 347 348 349 350 351 352 353 354 355 356 357 358 359\n",
      " 360 361 362 363 364 365 366 367 368 369 370 371 372 373 374 375 376 377\n",
      " 378 379 380 381 382 383 384 385 386 387 388 389 390 391 392 393 394 395\n",
      " 396 397 398 399] TEST: [400 401 402 403 404 405 406 407 408 409 410 411 412 413 414 415 416 417\n",
      " 418 419 420 421 422 423 424 425 426 427 428 429 430 431 432 433 434 435\n",
      " 436 437 438 439 440 441 442 443 444 445 446 447 448 449 450 451 452 453\n",
      " 454 455 456 457 458 459 460 461 462 463 464 465 466 467 468 469 470 471\n",
      " 472 473 474 475 476 477 478 479 480 481 482 483 484 485 486 487 488 489\n",
      " 490 491 492 493 494 495 496 497 498 499]\n"
     ]
    }
   ],
   "source": [
    "#simulación de dividir datos con 25 observaciones en 5 partes\n",
    "from sklearn.model_selection import KFold\n",
    "kf = KFold(n_splits=5)\n",
    "for train_index, test_index in kf.split(X):\n",
    "     print(\"TRAIN:\", train_index, \"TEST:\", test_index)\n",
    "     X_train, X_test = X[train_index], X[test_index]\n",
    "     y_train, y_test = y[train_index], y[test_index]\n"
   ]
  },
  {
   "cell_type": "markdown",
   "metadata": {},
   "source": [
    "\n",
    "- 5-fold-cross validation, corre por 5 iteraciones\n",
    "- Para cada iteración, cada observación está o en el set de entrenamiento o en el de prueba, pero NO EN AMBOS\n",
    "- Cada observación está en el set de prueba exactamente una vez"
   ]
  },
  {
   "cell_type": "markdown",
   "metadata": {},
   "source": [
    "**Comparando train/test split vs. Cross-Validation**\n",
    "\n",
    "Ventajas de cross validation:\n",
    "- Estimación más precisa de la precisión fuera de la muestra\n",
    "- Uso más eficiente de los datos (nos aseguramos que cada observación sea usada tanto en el entrenamiento como en la prueba)\n",
    "\n",
    "Ventajas del train/test split:\n",
    "- Corre \"K\" veces más rápido que el K-Fold Cross-Validation\n",
    "- Es más fácil de examinar los resultados detallados del proceso\n",
    "\n",
    "**Recomendaciones**\n",
    "\n",
    "- \"K\" puede ser cualquier número, pero K=10 es recomendado\n",
    "- Para problemas de clasificación se recomienda usar el muestreo estratificado\n",
    "\n",
    "### Ejemplo: ajuste de parámetros con cross-validation\n"
   ]
  },
  {
   "cell_type": "code",
   "execution_count": 30,
   "metadata": {},
   "outputs": [
    {
     "name": "stdout",
     "output_type": "stream",
     "text": [
      "[0.52 0.66 0.46 0.5  0.58 0.44 0.6  0.4  0.48 0.52]\n"
     ]
    }
   ],
   "source": [
    "from sklearn.model_selection import cross_val_score\n",
    "#10-fold cross-validation con K=5 para KNN \n",
    "knn = KNeighborsClassifier(n_neighbors=5)\n",
    "scores = cross_val_score(knn, X, y, cv=10, scoring='accuracy')\n",
    "print(scores)"
   ]
  },
  {
   "cell_type": "code",
   "execution_count": 31,
   "metadata": {},
   "outputs": [
    {
     "data": {
      "text/plain": [
       "0.516"
      ]
     },
     "execution_count": 31,
     "metadata": {},
     "output_type": "execute_result"
    }
   ],
   "source": [
    "#usar la precisión promedio como estimador\n",
    "scores.mean()"
   ]
  },
  {
   "cell_type": "code",
   "execution_count": 32,
   "metadata": {},
   "outputs": [
    {
     "name": "stdout",
     "output_type": "stream",
     "text": [
      "[0.458, 0.5, 0.51, 0.5, 0.516, 0.508, 0.5120000000000001, 0.48200000000000004, 0.47400000000000003, 0.47800000000000004, 0.4580000000000001, 0.462, 0.47000000000000003, 0.49000000000000005, 0.47400000000000003, 0.4780000000000001, 0.4880000000000001, 0.47400000000000003, 0.48599999999999993, 0.49399999999999994, 0.4699999999999999, 0.466, 0.458, 0.45, 0.44000000000000006, 0.45199999999999996, 0.438, 0.4640000000000001, 0.458, 0.45999999999999996]\n"
     ]
    }
   ],
   "source": [
    "#buscar por el valor óptimo de \"K\" para el KNN\n",
    "k_range = range(1,31)\n",
    "k_scores=[]\n",
    "for k in k_range:\n",
    "    knn = KNeighborsClassifier(n_neighbors=k)\n",
    "    scores = cross_val_score(knn, X, y, cv=10, scoring='accuracy')\n",
    "    k_scores.append(scores.mean())\n",
    "print(k_scores)\n"
   ]
  },
  {
   "cell_type": "code",
   "execution_count": 33,
   "metadata": {},
   "outputs": [
    {
     "data": {
      "text/plain": [
       "Text(0, 0.5, 'Precisión')"
      ]
     },
     "execution_count": 33,
     "metadata": {},
     "output_type": "execute_result"
    },
    {
     "data": {
      "image/png": "[encoded data removed]",
      "text/plain": [
       "<Figure size 432x288 with 1 Axes>"
      ]
     },
     "metadata": {
      "needs_background": "light"
     },
     "output_type": "display_data"
    }
   ],
   "source": [
    "import matplotlib.pyplot as plt\n",
    "\n",
    "#graficar el valor de k para el KNN y el accuracy del cross-validation\n",
    "plt.plot(k_range, k_scores)\n",
    "plt.xlabel('valor de k para KNN')\n",
    "plt.ylabel('Precisión')"
   ]
  },
  {
   "cell_type": "markdown",
   "metadata": {},
   "source": [
    "### Ejemplo: selección de modelo\n",
    "\n",
    "Comparar el mejor modelo de KNN contra regresión logística"
   ]
  },
  {
   "cell_type": "code",
   "execution_count": 34,
   "metadata": {},
   "outputs": [
    {
     "name": "stdout",
     "output_type": "stream",
     "text": [
      "0.51\n"
     ]
    }
   ],
   "source": [
    "#10-fold cross-validation con el mejor modelo de KNN\n",
    "knn = KNeighborsClassifier(n_neighbors=3)\n",
    "print(cross_val_score(knn, X, y, cv=10, scoring='accuracy').mean())"
   ]
  },
  {
   "cell_type": "code",
   "execution_count": 35,
   "metadata": {
    "scrolled": true
   },
   "outputs": [
    {
     "name": "stdout",
     "output_type": "stream",
     "text": [
      "0.4459999999999999\n"
     ]
    }
   ],
   "source": [
    "#10-fold cross-validation con Regresión logística\n",
    "logistic = LogisticRegression()\n",
    "print(cross_val_score(logistic, X, y, cv=10, scoring='accuracy').mean())"
   ]
  },
  {
   "cell_type": "markdown",
   "metadata": {},
   "source": [
    "Concluimos que el KNN es mejor modelo que la Regresión Logística para estos datos \n",
    "\n",
    "### Ejemplo: Selección de variables\n",
    "\n",
    "Vamos a usar ahora datos donde la variable a predecir es de regresión. \n"
   ]
  },
  {
   "cell_type": "code",
   "execution_count": 36,
   "metadata": {},
   "outputs": [
    {
     "data": {
      "text/html": [
       "<div>\n",
       "<style scoped>\n",
       "    .dataframe tbody tr th:only-of-type {\n",
       "        vertical-align: middle;\n",
       "    }\n",
       "\n",
       "    .dataframe tbody tr th {\n",
       "        vertical-align: top;\n",
       "    }\n",
       "\n",
       "    .dataframe thead th {\n",
       "        text-align: right;\n",
       "    }\n",
       "</style>\n",
       "<table border=\"1\" class=\"dataframe\">\n",
       "  <thead>\n",
       "    <tr style=\"text-align: right;\">\n",
       "      <th></th>\n",
       "      <th>Unnamed: 0</th>\n",
       "      <th>TV</th>\n",
       "      <th>Radio</th>\n",
       "      <th>Newspaper</th>\n",
       "      <th>Sales</th>\n",
       "    </tr>\n",
       "  </thead>\n",
       "  <tbody>\n",
       "    <tr>\n",
       "      <th>0</th>\n",
       "      <td>1</td>\n",
       "      <td>230.1</td>\n",
       "      <td>37.8</td>\n",
       "      <td>69.2</td>\n",
       "      <td>22.1</td>\n",
       "    </tr>\n",
       "    <tr>\n",
       "      <th>1</th>\n",
       "      <td>2</td>\n",
       "      <td>44.5</td>\n",
       "      <td>39.3</td>\n",
       "      <td>45.1</td>\n",
       "      <td>10.4</td>\n",
       "    </tr>\n",
       "    <tr>\n",
       "      <th>2</th>\n",
       "      <td>3</td>\n",
       "      <td>17.2</td>\n",
       "      <td>45.9</td>\n",
       "      <td>69.3</td>\n",
       "      <td>9.3</td>\n",
       "    </tr>\n",
       "    <tr>\n",
       "      <th>3</th>\n",
       "      <td>4</td>\n",
       "      <td>151.5</td>\n",
       "      <td>41.3</td>\n",
       "      <td>58.5</td>\n",
       "      <td>18.5</td>\n",
       "    </tr>\n",
       "    <tr>\n",
       "      <th>4</th>\n",
       "      <td>5</td>\n",
       "      <td>180.8</td>\n",
       "      <td>10.8</td>\n",
       "      <td>58.4</td>\n",
       "      <td>12.9</td>\n",
       "    </tr>\n",
       "  </tbody>\n",
       "</table>\n",
       "</div>"
      ],
      "text/plain": [
       "   Unnamed: 0     TV  Radio  Newspaper  Sales\n",
       "0           1  230.1   37.8       69.2   22.1\n",
       "1           2   44.5   39.3       45.1   10.4\n",
       "2           3   17.2   45.9       69.3    9.3\n",
       "3           4  151.5   41.3       58.5   18.5\n",
       "4           5  180.8   10.8       58.4   12.9"
      ]
     },
     "execution_count": 36,
     "metadata": {},
     "output_type": "execute_result"
    }
   ],
   "source": [
    "#cargar datos\n",
    "import pandas as pd\n",
    "ad = pd.read_csv('C:/Users/Castillejos/Tercer Semestre/Lab Modelado de Datos/Advertising.csv')\n",
    "ad.head()"
   ]
  },
  {
   "cell_type": "code",
   "execution_count": 37,
   "metadata": {},
   "outputs": [],
   "source": [
    "#Crear una lista de tres variables\n",
    "cols = ['TV', 'Radio','Newspaper']\n",
    "\n",
    "#Separar X y Y\n",
    "X = ad[cols]\n",
    "y=ad.Sales"
   ]
  },
  {
   "cell_type": "code",
   "execution_count": 38,
   "metadata": {},
   "outputs": [
    {
     "name": "stdout",
     "output_type": "stream",
     "text": [
      "[-1.88689808 -1.81595022 -1.44548731 -1.68069713 -1.14139187 -1.31971064\n",
      " -2.85891276 -1.45399362 -1.7443426  -1.56614748]\n"
     ]
    }
   ],
   "source": [
    "#10 fold cross validation con las tres variables -> Regresión lineal\n",
    "from sklearn.linear_model import LinearRegression\n",
    "from sklearn.metrics import mean_squared_error\n",
    "\n",
    "lm=LinearRegression()\n",
    "scores = cross_val_score(lm, X,y, cv=10,  scoring='neg_root_mean_squared_error')\n",
    "print(scores)"
   ]
  },
  {
   "cell_type": "code",
   "execution_count": 39,
   "metadata": {},
   "outputs": [
    {
     "name": "stdout",
     "output_type": "stream",
     "text": [
      "[1.88689808 1.81595022 1.44548731 1.68069713 1.14139187 1.31971064\n",
      " 2.85891276 1.45399362 1.7443426  1.56614748]\n"
     ]
    }
   ],
   "source": [
    "#cambiar el signo al MSE\n",
    "rmse = -scores\n",
    "print(rmse)"
   ]
  },
  {
   "cell_type": "code",
   "execution_count": 40,
   "metadata": {},
   "outputs": [
    {
     "name": "stdout",
     "output_type": "stream",
     "text": [
      "1.6913531708051797\n"
     ]
    }
   ],
   "source": [
    "#convertir de MSE a RMSE\n",
    "print(rmse.mean())"
   ]
  },
  {
   "cell_type": "code",
   "execution_count": 41,
   "metadata": {},
   "outputs": [
    {
     "name": "stdout",
     "output_type": "stream",
     "text": [
      "1.6796748419090766\n"
     ]
    }
   ],
   "source": [
    "#10 fold cross validation con dos variables (sin Newspaper)\n",
    "#Crear una lista de dos variables\n",
    "cols = ['TV', 'Radio']\n",
    "\n",
    "#Separar X y Y\n",
    "X = ad[cols]\n",
    "y=ad.Sales\n",
    "\n",
    "print( (-cross_val_score(lm, X,y, cv=10,  scoring='neg_root_mean_squared_error')).mean())\n"
   ]
  },
  {
   "cell_type": "markdown",
   "metadata": {},
   "source": [
    "Como el RMSE es una métrica que queremos disminuir, el modelo que excluye la variable \"Newspaper\" es mejor para estos datos."
   ]
  },
  {
   "cell_type": "markdown",
   "metadata": {},
   "source": [
    "#### Selección de variables no tan manual...\n"
   ]
  },
  {
   "cell_type": "markdown",
   "metadata": {},
   "source": [
    "Gradient Boosting Classifer "
   ]
  },
  {
   "cell_type": "code",
   "execution_count": 42,
   "metadata": {},
   "outputs": [],
   "source": [
    "import matplotlib.pyplot as plt\n",
    "import seaborn as sns\n",
    "\n",
    "import sklearn\n",
    "from sklearn.ensemble import GradientBoostingClassifier\n",
    "from sklearn.model_selection import cross_val_score\n",
    "from sklearn.feature_selection import SelectKBest, f_regression\n",
    "np.random.seed(6450345)"
   ]
  },
  {
   "cell_type": "code",
   "execution_count": 43,
   "metadata": {},
   "outputs": [
    {
     "name": "stdout",
     "output_type": "stream",
     "text": [
      "Scores on each subset:\n",
      "[0.6025 0.6325 0.625  0.63   0.6325]\n",
      "Average score and uncertainty: (62.45 +- 0.507)%\n"
     ]
    }
   ],
   "source": [
    "#CÓMO NO SE HACE\n",
    "\n",
    "#creación de datos\n",
    "def make_data(N=1000, n_vars=10,\n",
    "              n_classes=2):\n",
    "    X = np.random.normal(size=(N,n_vars))\n",
    "    y = np.random.choice(n_classes, N)\n",
    "    \n",
    "    return X, y\n",
    "\n",
    "X,y = make_data(N=2000, n_vars=50000)\n",
    "\n",
    "#Seleccionemos las 20 características con la mayor correlación\n",
    "select = SelectKBest(f_regression, k=20)\n",
    "X_selected = select.fit_transform(X,y)\n",
    "\n",
    "#Creamos modelo\n",
    "clf = GradientBoostingClassifier()\n",
    "scores = cross_val_score(clf, X_selected, y, cv=5)\n",
    "\n",
    "print (\"Scores on each subset:\")\n",
    "print(scores)\n",
    "avg = (100*np.mean(scores), 100*np.std(scores)/np.sqrt(scores.shape[0]))\n",
    "print(\"Average score and uncertainty: (%.2f +- %.3f)%%\"%avg)"
   ]
  },
  {
   "cell_type": "code",
   "execution_count": 44,
   "metadata": {},
   "outputs": [
    {
     "name": "stdout",
     "output_type": "stream",
     "text": [
      "Scores on each subset:\n",
      "[0.5325 0.4975 0.525  0.465  0.53  ]\n",
      "Average score and uncertainty: (51.00 +- 1.151)%\n"
     ]
    }
   ],
   "source": [
    "#COMO SÍ SE HACE\n",
    "\n",
    "from sklearn.pipeline import make_pipeline\n",
    "\n",
    "clf = make_pipeline(SelectKBest(f_regression, k=20),\n",
    "                    GradientBoostingClassifier())\n",
    "\n",
    "scores = cross_val_score(clf, X, y, cv=5)\n",
    "\n",
    "print(\"Scores on each subset:\")\n",
    "print(scores)\n",
    "avg = (100*np.mean(scores), 100*np.std(scores)/np.sqrt(scores.shape[0]))\n",
    "print(\"Average score and uncertainty: (%.2f +- %.3f)%%\"%avg)"
   ]
  },
  {
   "cell_type": "markdown",
   "metadata": {},
   "source": [
    "La elección de las variables de entrada es sólo una de las muchas elecciones que debe realizar al crear su aplicación de aprendizaje automático. \n",
    "\n",
    "Recuerden tomar todas las decisiones durante el cross validation; de lo contrario, se encontrará con un rudo despertar cuando su modelo se enfrente a datos no vistos por primera vez."
   ]
  },
  {
   "cell_type": "markdown",
   "metadata": {},
   "source": [
    "### Concluyendo\n",
    "\n",
    "- El cross validation repite muchas veces la división aleatoria de conjuntos de prueba y entrenamiento y promedia los resultados\n",
    "- Se puede confiar más en las estimaciones ya que se reduce la varianza asociada a una sola división de conjuntos\n",
    "\n"
   ]
  },
  {
   "cell_type": "markdown",
   "metadata": {},
   "source": [
    "### Referencias\n",
    "\n",
    "https://scikit-learn.org/stable/modules/generated/sklearn.model_selection.train_test_split.html"
   ]
  },
  {
   "cell_type": "markdown",
   "metadata": {},
   "source": [
    "<script>\n",
    "  $(document).ready(function(){\n",
    "    $('div.prompt').hide();\n",
    "    $('div.back-to-top').hide();\n",
    "    $('nav#menubar').hide();\n",
    "    $('.breadcrumb').hide();\n",
    "    $('.hidden-print').hide();\n",
    "  });\n",
    "</script>\n",
    "\n",
    "<footer id=\"attribution\" style=\"float:right; color:#808080; background:#fff;\">\n",
    "Created with Jupyter by Claudia C. Castillejos Jáuregui .\n",
    "</footer>"
   ]
  },
  {
   "cell_type": "code",
   "execution_count": null,
   "metadata": {},
   "outputs": [],
   "source": []
  }
 ],
 "metadata": {
  "kernelspec": {
   "display_name": "Python 3",
   "language": "python",
   "name": "python3"
  },
  "language_info": {
   "codemirror_mode": {
    "name": "ipython",
    "version": 3
   },
   "file_extension": ".py",
   "mimetype": "text/x-python",
   "name": "python",
   "nbconvert_exporter": "python",
   "pygments_lexer": "ipython3",
   "version": "3.8.5"
  }
 },
 "nbformat": 4,
 "nbformat_minor": 4
}
